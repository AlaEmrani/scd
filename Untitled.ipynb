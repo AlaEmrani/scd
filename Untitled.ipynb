{
 "cells": [
  {
   "cell_type": "code",
   "execution_count": 1,
   "metadata": {},
   "outputs": [],
   "source": [
    "import numpy as np\n",
    "import plotly.express as px\n",
    "import plotly.graph_objects as go"
   ]
  },
  {
   "cell_type": "code",
   "execution_count": 2,
   "metadata": {},
   "outputs": [
    {
     "name": "stdout",
     "output_type": "stream",
     "text": [
      "Difference matrix:\n",
      "[[-5 -3 -1]\n",
      " [ 1  3  5]]\n",
      "\n",
      "Difference vector:\n",
      "[-5 -3 -1  1  3  5]\n",
      "\n",
      "Selected row (row 0):\n",
      "[-5 -3 -1]\n",
      "\n",
      "Kronecker product of the selected row with itself:\n",
      "[25 15  5 15  9  3  5  3  1]\n"
     ]
    }
   ],
   "source": [
    "import numpy as np\n",
    "\n",
    "# Example matrices\n",
    "A = np.array([[1, 2, 3], [4, 5, 6]])\n",
    "B = np.array([[6, 5, 4], [3, 2, 1]])\n",
    "\n",
    "# Ensure the matrices have the same shape\n",
    "if A.shape != B.shape:\n",
    "    raise ValueError(\"Matrices must have the same shape.\")\n",
    "\n",
    "# Compute the element-wise difference\n",
    "difference_matrix = A - B\n",
    "\n",
    "# Flatten the resulting matrix to a vector\n",
    "difference_vector = difference_matrix.flatten()\n",
    "\n",
    "print(\"Difference matrix:\")\n",
    "print(difference_matrix)\n",
    "print(\"\\nDifference vector:\")\n",
    "print(difference_vector)\n",
    "\n",
    "# Choose index r\n",
    "r = 2  # Example index\n",
    "\n",
    "# Convert the index in the flattened vector to its corresponding row in the original matrix\n",
    "rows, cols = difference_matrix.shape\n",
    "row_index = r // cols\n",
    "\n",
    "# Extract the corresponding row from the original matrix\n",
    "selected_row = difference_matrix[row_index]\n",
    "\n",
    "# Compute the Kronecker product of the selected row with itself\n",
    "kron_product = np.kron(selected_row, selected_row)\n",
    "\n",
    "print(f\"\\nSelected row (row {row_index}):\")\n",
    "print(selected_row)\n",
    "print(\"\\nKronecker product of the selected row with itself:\")\n",
    "print(kron_product)\n"
   ]
  },
  {
   "cell_type": "code",
   "execution_count": null,
   "metadata": {},
   "outputs": [],
   "source": []
  }
 ],
 "metadata": {
  "kernelspec": {
   "display_name": "Python 3",
   "language": "python",
   "name": "python3"
  },
  "language_info": {
   "codemirror_mode": {
    "name": "ipython",
    "version": 3
   },
   "file_extension": ".py",
   "mimetype": "text/x-python",
   "name": "python",
   "nbconvert_exporter": "python",
   "pygments_lexer": "ipython3",
   "version": "3.6.8"
  }
 },
 "nbformat": 4,
 "nbformat_minor": 4
}
